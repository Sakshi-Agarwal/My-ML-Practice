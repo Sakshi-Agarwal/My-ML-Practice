{
 "cells": [
  {
   "cell_type": "code",
   "execution_count": 3,
   "metadata": {},
   "outputs": [
    {
     "name": "stdout",
     "output_type": "stream",
     "text": [
      "Enter no. of fibonacci series:50\n",
      "12586269025\n"
     ]
    }
   ],
   "source": [
    "#using functool\n",
    "from functools import lru_cache\n",
    "\n",
    "@lru_cache(maxsize=128)\n",
    "def fib_cache(n):\n",
    "    if n in [1,2]:\n",
    "        return 1\n",
    "    else:\n",
    "        return fib_cache(n - 1) + fib_cache(n - 2)\n",
    "\n",
    "n=int(input(\"Enter no. of fibonacci series:\"))\n",
    "print(fib_cache(n))\n",
    "    "
   ]
  },
  {
   "cell_type": "code",
   "execution_count": 5,
   "metadata": {},
   "outputs": [
    {
     "name": "stdout",
     "output_type": "stream",
     "text": [
      "Enter no. of fibonacci series:5\n",
      "5\n"
     ]
    }
   ],
   "source": [
    "#using dictionar\n",
    "cache={}\n",
    "def get_fib(n):\n",
    "    if n in cache:\n",
    "        return(cache[n])\n",
    "    elif n<3:\n",
    "        value=1\n",
    "    else:\n",
    "        value=get_fib(n-1)+get_fib(n-2)\n",
    "    cache[n]=value\n",
    "    return value\n",
    "\n",
    "n=int(input(\"Enter no. of fibonacci series:\"))\n",
    "print(get_fib(n))"
   ]
  },
  {
   "cell_type": "code",
   "execution_count": null,
   "metadata": {},
   "outputs": [],
   "source": []
  },
  {
   "cell_type": "code",
   "execution_count": null,
   "metadata": {},
   "outputs": [],
   "source": []
  }
 ],
 "metadata": {
  "kernelspec": {
   "display_name": "Python 3",
   "language": "python",
   "name": "python3"
  },
  "language_info": {
   "codemirror_mode": {
    "name": "ipython",
    "version": 3
   },
   "file_extension": ".py",
   "mimetype": "text/x-python",
   "name": "python",
   "nbconvert_exporter": "python",
   "pygments_lexer": "ipython3",
   "version": "3.6.5"
  }
 },
 "nbformat": 4,
 "nbformat_minor": 2
}
