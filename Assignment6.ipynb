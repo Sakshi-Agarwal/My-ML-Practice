{
 "cells": [
  {
   "cell_type": "markdown",
   "metadata": {},
   "source": [
    "# Iterators"
   ]
  },
  {
   "cell_type": "markdown",
   "metadata": {},
   "source": [
    "\n",
    "    Anything which can be used to iterate a loop. It has two necessary methods:\n",
    "        __iter__,__next__\n",
    "        Lists, tuples, dict, strings, sets are examples of inbuilt iterators."
   ]
  },
  {
   "cell_type": "code",
   "execution_count": 1,
   "metadata": {
    "scrolled": true
   },
   "outputs": [
    {
     "name": "stdout",
     "output_type": "stream",
     "text": [
      "iterators in List\n",
      "a\n",
      "b\n",
      "c\n",
      "d\n",
      "iterators in Tuples\n",
      "a\n",
      "b\n",
      "c\n",
      "d\n",
      "iterators in String\n",
      "a\n",
      "b\n",
      "c\n",
      "d\n",
      "iterators in Dictionary\n",
      "a 1\n",
      "b 2\n",
      "c 3\n",
      "d 4\n"
     ]
    }
   ],
   "source": [
    "\n",
    "l=['a','b','c','d']\n",
    "t=('a','b','c','d')\n",
    "str=\"abcd\"\n",
    "d={'a':1,\n",
    "   'b':2,\n",
    "   'c':3,\n",
    "   'd':4\n",
    "  }\n",
    "print(\"iterators in List\")\n",
    "for i in l:\n",
    "    print(i)\n",
    "print(\"iterators in Tuples\")    \n",
    "for i in t:\n",
    "    print(i)\n",
    "print(\"iterators in String\")    \n",
    "for i in str:\n",
    "    print(i)\n",
    "print(\"iterators in Dictionary\")    \n",
    "for i in d:\n",
    "    print(\"%s %d\" %(i,d[i]))"
   ]
  },
  {
   "cell_type": "markdown",
   "metadata": {},
   "source": [
    "# Zip"
   ]
  },
  {
   "cell_type": "markdown",
   "metadata": {},
   "source": [
    "\n",
    "  Mapping similiar index of multiple iterables or container. \n",
    "  Parameters : Python iterables or containers ( list, string etc )\n",
    "  Return Value  :  Returns a single iterator object, having mapped values from all the containers."
   ]
  },
  {
   "cell_type": "code",
   "execution_count": 2,
   "metadata": {},
   "outputs": [
    {
     "name": "stdout",
     "output_type": "stream",
     "text": [
      "output of zipped function: \n",
      "{('Sahil', 27, 92), ('Sakshi', 28, 90), ('Swapnil', 45, 95)}\n"
     ]
    }
   ],
   "source": [
    "\n",
    "name = [\"Sakshi\",\"Sahil\",\"Swapnil\",]\n",
    "rollno = [28, 27, 45]\n",
    "marks = [90, 92, 95] \n",
    "info = set(zip(name, rollno, marks))\n",
    "print(\"output of zipped function: \")\n",
    "print(info)\n",
    "\n"
   ]
  },
  {
   "cell_type": "markdown",
   "metadata": {},
   "source": [
    "# Map"
   ]
  },
  {
   "cell_type": "markdown",
   "metadata": {},
   "source": [
    "\n",
    "\n",
    "map() function returns a list of the results after applying the given function to each item of a given iterable (list, tuple etc.)\n",
    "\n",
    "Parameters :\n",
    "\n",
    "fun : It is a function to which map passes each element of given iterable.\n",
    "iter : It is a iterable which is to be mapped.\n",
    "\n",
    "\n",
    "\n"
   ]
  },
  {
   "cell_type": "code",
   "execution_count": 15,
   "metadata": {},
   "outputs": [
    {
     "name": "stdout",
     "output_type": "stream",
     "text": [
      "[2, 4, 6, 8]\n"
     ]
    }
   ],
   "source": [
    "numbers = (1, 2, 3, 4) \n",
    "result = map(lambda x: x + x, numbers) \n",
    "print(list(result)) "
   ]
  },
  {
   "cell_type": "markdown",
   "metadata": {},
   "source": [
    "# Reduce"
   ]
  },
  {
   "cell_type": "code",
   "execution_count": 4,
   "metadata": {
    "scrolled": true
   },
   "outputs": [
    {
     "name": "stdout",
     "output_type": "stream",
     "text": [
      "The sum of the list elements is : 15\n"
     ]
    }
   ],
   "source": [
    "\n",
    "import functools \n",
    "lis = [ 1 , 3, 5, 6]\n",
    "print (\"The sum of the list elements is : \",end=\"\") \n",
    "print (functools.reduce(lambda a,b : a+b,lis)) \n",
    "  "
   ]
  },
  {
   "cell_type": "markdown",
   "metadata": {},
   "source": [
    "# list comprehension"
   ]
  },
  {
   "cell_type": "code",
   "execution_count": 14,
   "metadata": {},
   "outputs": [
    {
     "data": {
      "text/plain": [
       "[4, 9, 25, 36]"
      ]
     },
     "execution_count": 14,
     "metadata": {},
     "output_type": "execute_result"
    }
   ],
   "source": [
    "\n",
    "l = [2,3,5,6]\n",
    "new = [x*x for x in l]\n",
    "new"
   ]
  },
  {
   "cell_type": "markdown",
   "metadata": {},
   "source": [
    "# RMS calculation"
   ]
  },
  {
   "cell_type": "code",
   "execution_count": 8,
   "metadata": {},
   "outputs": [
    {
     "name": "stdout",
     "output_type": "stream",
     "text": [
      "Enter total no. of numbers:5\n",
      "1 \n",
      "2\n",
      "3\n",
      "4\n",
      "5\n",
      "1.4832396974191326\n"
     ]
    }
   ],
   "source": [
    "\n",
    "l=[]\n",
    "sum = 0\n",
    "n = int(input(\"Enter total no. of numbers:\"))\n",
    "for i in range(n):\n",
    "    l.append(int(input()))\n",
    "for i in l:\n",
    "    sum = sum + i**2\n",
    "rms = (sum ** 0.5)/len(l)  \n",
    "print(rms)"
   ]
  },
  {
   "cell_type": "markdown",
   "metadata": {},
   "source": [
    "# Distance formula for n-dimensional coordinate system"
   ]
  },
  {
   "cell_type": "code",
   "execution_count": 12,
   "metadata": {},
   "outputs": [
    {
     "name": "stdout",
     "output_type": "stream",
     "text": [
      "Enter no. of dimensions4\n",
      "Enter coordinates of point 1:\n",
      "2\n",
      "3\n",
      "4\n",
      "5\n",
      "Enter coordinates of point 2:\n",
      "4\n",
      "5\n",
      "6\n",
      "7\n",
      "Distance between two points: 4.0\n"
     ]
    }
   ],
   "source": [
    "\n",
    "p1 = []\n",
    "p2 = []\n",
    "temp = 0\n",
    "n = int(input(\"Enter no. of dimensions\"))\n",
    "print(\"Enter coordinates of point 1:\")\n",
    "for i in range(n):\n",
    "    p1.append(int(input()))\n",
    "print(\"Enter coordinates of point 2:\")    \n",
    "for i in range(n):\n",
    "    p2.append(int(input()))\n",
    "for i in range(n):\n",
    "    temp = temp + (p1[i] - p2[i])**2\n",
    "print(\"Distance between two points:\",temp**0.5)\n",
    "    "
   ]
  },
  {
   "cell_type": "markdown",
   "metadata": {},
   "source": []
  }
 ],
 "metadata": {
  "kernelspec": {
   "display_name": "Python 3",
   "language": "python",
   "name": "python3"
  },
  "language_info": {
   "codemirror_mode": {
    "name": "ipython",
    "version": 3
   },
   "file_extension": ".py",
   "mimetype": "text/x-python",
   "name": "python",
   "nbconvert_exporter": "python",
   "pygments_lexer": "ipython3",
   "version": "3.6.5"
  }
 },
 "nbformat": 4,
 "nbformat_minor": 2
}
