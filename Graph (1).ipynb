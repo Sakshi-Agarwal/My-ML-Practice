{
 "cells": [
  {
   "cell_type": "code",
   "execution_count": 1,
   "metadata": {},
   "outputs": [],
   "source": [
    "import time as t\n",
    "import matplotlib.pyplot as plt"
   ]
  },
  {
   "cell_type": "code",
   "execution_count": 2,
   "metadata": {},
   "outputs": [
    {
     "name": "stdout",
     "output_type": "stream",
     "text": [
      "Enter max of graph:30\n"
     ]
    }
   ],
   "source": [
    "n=int(input(\"Enter max of graph:\"))"
   ]
  },
  {
   "cell_type": "code",
   "execution_count": 3,
   "metadata": {},
   "outputs": [],
   "source": [
    "cache={}\n",
    "def fib_cache(n):\n",
    "    if n in cache:\n",
    "        return(cache[n])\n",
    "    elif n<3:\n",
    "        value=1\n",
    "    else:\n",
    "        value=fib_cache(n-1)+fib_cache(n-2)\n",
    "    cache[n]=value\n",
    "    return value"
   ]
  },
  {
   "cell_type": "code",
   "execution_count": 4,
   "metadata": {},
   "outputs": [],
   "source": [
    "def fib_normal(nn):\n",
    "    if nn<3:\n",
    "        return 1\n",
    "    else:\n",
    "        return fib_normal(nn-1)+fib_normal(nn-2) "
   ]
  },
  {
   "cell_type": "code",
   "execution_count": 5,
   "metadata": {},
   "outputs": [
    {
     "data": {
      "image/png": "[encoded data removed]",
      "text/plain": [
       "<Figure size 432x288 with 1 Axes>"
      ]
     },
     "metadata": {},
     "output_type": "display_data"
    }
   ],
   "source": [
    "plt.xlabel('Number')\n",
    "plt.ylabel(\"TIME\")\n",
    "for i in range(n):\n",
    "    timestamp1=t.time()\n",
    "    fib_normal(i)\n",
    "    timestamp2=t.time()\n",
    "    diffn=timestamp2-timestamp1    \n",
    "    timestamp1=t.time()\n",
    "    fib_cache(i)\n",
    "    timestamp2=t.time()\n",
    "    diffc=timestamp2-timestamp1   \n",
    "    plt.plot(i,diffc,'ro') \n",
    "    plt.plot(i,diffn,'bo')\n",
    "plt.show()"
   ]
  },
  {
   "cell_type": "code",
   "execution_count": null,
   "metadata": {},
   "outputs": [],
   "source": [
    "\n"
   ]
  },
  {
   "cell_type": "code",
   "execution_count": null,
   "metadata": {},
   "outputs": [],
   "source": []
  },
  {
   "cell_type": "code",
   "execution_count": null,
   "metadata": {},
   "outputs": [],
   "source": []
  },
  {
   "cell_type": "code",
   "execution_count": null,
   "metadata": {},
   "outputs": [],
   "source": []
  },
  {
   "cell_type": "code",
   "execution_count": null,
   "metadata": {},
   "outputs": [],
   "source": []
  }
 ],
 "metadata": {
  "kernelspec": {
   "display_name": "Python 3",
   "language": "python",
   "name": "python3"
  },
  "language_info": {
   "codemirror_mode": {
    "name": "ipython",
    "version": 3
   },
   "file_extension": ".py",
   "mimetype": "text/x-python",
   "name": "python",
   "nbconvert_exporter": "python",
   "pygments_lexer": "ipython3",
   "version": "3.6.5"
  }
 },
 "nbformat": 4,
 "nbformat_minor": 2
}
